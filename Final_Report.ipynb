{
  "nbformat": 4,
  "nbformat_minor": 0,
  "metadata": {
    "colab": {
      "provenance": []
    },
    "kernelspec": {
      "name": "python3",
      "display_name": "Python 3"
    },
    "language_info": {
      "name": "python"
    }
  },
  "cells": [
    {
      "cell_type": "markdown",
      "source": [
        "#Blast Freezer Truck Schedule Optimization for Supply Chain Efficiency\n",
        "##Final Report"
      ],
      "metadata": {
        "id": "i8tZ-Rlp_-2w"
      }
    },
    {
      "cell_type": "markdown",
      "source": [
        "###Library Import and Environment Setup\n",
        "Initializes the Python environment by importing necessary libraries for data manipulation, visualization, and statistical analysis. It also mounts Google Drive to access project datasets."
      ],
      "metadata": {
        "id": "tGuE-4EP_9J3"
      }
    },
    {
      "cell_type": "code",
      "source": [
        "import numpy as np\n",
        "import seaborn as sns\n",
        "import pandas as pd\n",
        "import matplotlib.pyplot as plt"
      ],
      "metadata": {
        "id": "VtXatRet-4GB"
      },
      "execution_count": null,
      "outputs": []
    },
    {
      "cell_type": "code",
      "execution_count": null,
      "metadata": {
        "colab": {
          "base_uri": "https://localhost:8080/"
        },
        "id": "vvaKniifvZ48",
        "outputId": "f21ffb8d-037b-42f4-bbee-5ab295e1afc1"
      },
      "outputs": [
        {
          "output_type": "stream",
          "name": "stdout",
          "text": [
            "Drive already mounted at /content/drive; to attempt to forcibly remount, call drive.mount(\"/content/drive\", force_remount=True).\n"
          ]
        }
      ],
      "source": [
        "from google.colab import drive\n",
        "drive.mount(\"/content/drive\")"
      ]
    },
    {
      "cell_type": "code",
      "source": [
        "import sys\n",
        "sys.path.insert(0, \"/content/drive/MyDrive/645\")"
      ],
      "metadata": {
        "id": "jgqHnDryvfNh"
      },
      "execution_count": null,
      "outputs": []
    },
    {
      "cell_type": "code",
      "source": [
        "from brooks import *"
      ],
      "metadata": {
        "id": "DooYy-TavfJz"
      },
      "execution_count": null,
      "outputs": []
    },
    {
      "cell_type": "markdown",
      "source": [
        "###Data Loading and Preprocessing\n",
        "Reads the dataset from an Excel file, converts the date column to datetime format, and extracts the week number from the date to group data on a weekly basis."
      ],
      "metadata": {
        "id": "8LMogkDHAMrT"
      }
    },
    {
      "cell_type": "code",
      "source": [
        "data = pd.read_excel(\"/content/drive/MyDrive/645/Datasets/final_data.xlsx\")\n",
        "data[\"date\"] = pd.to_datetime(data[\"date\"])\n",
        "data[\"week\"] = data[\"date\"].dt.isocalendar().week\n",
        "processing_time = data.groupby(\"week\")[\"hours\"].sum().reset_index()\n",
        "processing_time.columns = [\"week\", \"TPT_perweek\"]"
      ],
      "metadata": {
        "id": "9oDPn6du0qoX"
      },
      "execution_count": null,
      "outputs": []
    },
    {
      "cell_type": "markdown",
      "source": [
        "###Data Visualization\n",
        "Generates histogram plots for individual processing hours and total processing time per week, using different colors for distinction and applying kernel density estimation for smoother distribution curves."
      ],
      "metadata": {
        "id": "mgAirXxMAUWg"
      }
    },
    {
      "cell_type": "code",
      "source": [
        "sns.histplot(data[\"hours\"], color='red', kde=True)"
      ],
      "metadata": {
        "colab": {
          "base_uri": "https://localhost:8080/",
          "height": 467
        },
        "id": "X9NaHBdgvfC4",
        "outputId": "72b88af6-72b9-49a2-8a3f-1c429e5441e7"
      },
      "execution_count": null,
      "outputs": [
        {
          "output_type": "execute_result",
          "data": {
            "text/plain": [
              "<Axes: xlabel='hours', ylabel='Count'>"
            ]
          },
          "metadata": {},
          "execution_count": 102
        },
        {
          "output_type": "display_data",
          "data": {
            "text/plain": [
              "<Figure size 640x480 with 1 Axes>"
            ],
            "image/png": "[encoded data removed]"
          },
          "metadata": {}
        }
      ]
    },
    {
      "cell_type": "markdown",
      "source": [
        "Histogram overlaid with a kernel density estimation (KDE) curve, representing the distribution of individual freezing hours. The x-axis denotes the hours, and the y-axis shows the count of occurrences within the dataset. The bars indicate the frequency of specific hour ranges where freezing occurred, with peaks suggesting the most common freezing times. The red KDE line provides a smooth estimate of the distribution, showing multiple peaks, which suggests that the freezing times are not normally distributed and may have several modes."
      ],
      "metadata": {
        "id": "6MJEq6tfAvbX"
      }
    },
    {
      "cell_type": "code",
      "source": [
        "sns.histplot(processing_time[\"TPT_perweek\"], color='black', kde=True)"
      ],
      "metadata": {
        "colab": {
          "base_uri": "https://localhost:8080/",
          "height": 468
        },
        "id": "G579DTMGJpaS",
        "outputId": "8bc9591b-0dc6-4c53-e7a6-d049a78a1ddc"
      },
      "execution_count": null,
      "outputs": [
        {
          "output_type": "execute_result",
          "data": {
            "text/plain": [
              "<Axes: xlabel='TPT_perweek', ylabel='Count'>"
            ]
          },
          "metadata": {},
          "execution_count": 104
        },
        {
          "output_type": "display_data",
          "data": {
            "text/plain": [
              "<Figure size 640x480 with 1 Axes>"
            ],
            "image/png": "[encoded data removed]"
          },
          "metadata": {}
        }
      ]
    },
    {
      "cell_type": "markdown",
      "source": [
        "Histogram with a KDE curve, illustrating the total processing time per week (TPT_perweek). The x-axis signifies the total processing time in hours, and the y-axis represents the count of weeks with corresponding total processing times. This distribution seems to be unimodal with a peak around the center of the dataset, which could indicate a normal distribution. However, without further statistical testing, it cannot be definitively said to follow a normal distribution. The tail on the right suggests some weeks with very high total processing times, possibly outliers or periods of high demand.\n",
        "\n",
        "\n",
        "\n",
        "\n",
        "\n"
      ],
      "metadata": {
        "id": "Wg_xdIxTA09o"
      }
    },
    {
      "cell_type": "markdown",
      "source": [
        "###Statistical Distribution Testing\n",
        "Performs Chi-Squared tests on the processing hours and weekly total processing time to fit them against normal, gamma, and triangular distributions, extracting parameters like mean, standard deviation, and mode for each distribution."
      ],
      "metadata": {
        "id": "ZrAHNJ12A7LV"
      }
    },
    {
      "cell_type": "code",
      "source": [
        "#Chi-Squared test for hours\n",
        "(mean, stdv) = test_distribution(data['hours'], distribution=\"normal\")\n",
        "(alpha, beta) = test_distribution(data[\"hours\"], distribution=\"gamma\")\n",
        "(min, mode, max) = test_distribution(data[\"hours\"], distribution=\"triangular\")\n",
        "\n",
        "#Chi-Squared test for weekly processing time\n",
        "(mean, stdv) = test_distribution(processing_time[\"TPT_perweek\"], distribution=\"normal\")\n",
        "(alpha, beta) = test_distribution(processing_time[\"TPT_perweek\"], distribution=\"gamma\")\n",
        "(min, mode, max) = test_distribution(processing_time[\"TPT_perweek\"], distribution=\"triangular\")"
      ],
      "metadata": {
        "colab": {
          "base_uri": "https://localhost:8080/"
        },
        "id": "gXvFC176CIZl",
        "outputId": "af283416-4e16-45fa-b704-6d926fa1b47a"
      },
      "execution_count": null,
      "outputs": [
        {
          "output_type": "stream",
          "name": "stdout",
          "text": [
            "For a normal distribution, the mean estimate is 49.624955 and the standard deviation estimate is 13.389290.\n",
            "The test statistic for a normal distribution is 94608.142639 and the p-value is 0.000000.\n",
            "For a gamma distribution, the alpha estimate is 13.421428 and the beta estimate is 0.270457.\n",
            "The test statistic for a gamma distribution is 96970.811010 and the p-value is 0.000000.\n",
            "For a triangular distribution, the min estimate is 15.448938, the mode estimate is 72.000000, and the max estimate is 72.003638.\n",
            "The test statistic for a triangular distribution is 63762.080041 and the p-value is 0.000000.\n",
            "For a normal distribution, the mean estimate is 15960.149038 and the standard deviation estimate is 3195.510397.\n",
            "The test statistic for a normal distribution is 4.834841 and the p-value is 0.680110.\n",
            "For a gamma distribution, the alpha estimate is 25.321580 and the beta estimate is 0.001587.\n",
            "The test statistic for a gamma distribution is 3.244821 and the p-value is 0.861469.\n",
            "For a triangular distribution, the min estimate is 7930.370879, the mode estimate is 15521.250000, and the max estimate is 25644.766261.\n",
            "The test statistic for a triangular distribution is 7.270920 and the p-value is 0.296518.\n"
          ]
        }
      ]
    },
    {
      "cell_type": "markdown",
      "source": [
        "###Simulation for Truck Scheduling\n",
        "Simulates the total freezing time for a range of truck schedules using a normal distribution for freezing times, calculating the average, 50th percentile, and 95th percentile freezing times across iterations to inform scheduling decisions."
      ],
      "metadata": {
        "id": "h5DVUtIBBHik"
      }
    },
    {
      "cell_type": "code",
      "source": [
        "import numpy as np\n",
        "\n",
        "truck_schedule = list(range(10, 41, 5))\n",
        "\n",
        "iterations = 1000\n",
        "for scheduled_trucks in truck_schedule:\n",
        "    random_gen = np.random.default_rng(54321)\n",
        "    print(scheduled_trucks)\n",
        "    freezing_time_per_week = []\n",
        "    for j in range(iterations):\n",
        "        total_freezing_time = 0\n",
        "        pallets_loaded = 24 * scheduled_trucks\n",
        "        for pallet_count in range(pallets_loaded):\n",
        "            freeze_duration = random_gen.normal(49.624955, 13.39)\n",
        "            total_freezing_time += freeze_duration\n",
        "        freezing_time_per_week.append(total_freezing_time)\n",
        "    print(\"Total freezing time per week: %f\" % (sum(freezing_time_per_week) / iterations))\n",
        "    fifty_percentile = np.percentile(freezing_time_per_week, q=50)\n",
        "    print(\"50th percentile for total freezing time per week: %f\" % (fifty_percentile))\n",
        "    ninety_fifth_percentile = np.percentile(freezing_time_per_week, q=95)\n",
        "    print(\"95th percentile for total freezing time per week: %f\" % (ninety_fifth_percentile))\n"
      ],
      "metadata": {
        "colab": {
          "base_uri": "https://localhost:8080/"
        },
        "id": "o3EcWf0yes0K",
        "outputId": "7bb1b860-18f6-44bb-8a20-f57d3cd5def5"
      },
      "execution_count": null,
      "outputs": [
        {
          "output_type": "stream",
          "name": "stdout",
          "text": [
            "10\n",
            "Total freezing time per week: 11892.622975\n",
            "50th percentile for total freezing time per week: 11887.875582\n",
            "95th percentile for total freezing time per week: 12246.908759\n",
            "15\n",
            "Total freezing time per week: 17841.626205\n",
            "50th percentile for total freezing time per week: 17832.524569\n",
            "95th percentile for total freezing time per week: 18277.538217\n",
            "20\n",
            "Total freezing time per week: 23786.568230\n",
            "50th percentile for total freezing time per week: 23779.176684\n",
            "95th percentile for total freezing time per week: 24294.971158\n",
            "25\n",
            "Total freezing time per week: 29734.808854\n",
            "50th percentile for total freezing time per week: 29740.458363\n",
            "95th percentile for total freezing time per week: 30286.939851\n",
            "30\n",
            "Total freezing time per week: 35690.758062\n",
            "50th percentile for total freezing time per week: 35689.590771\n",
            "95th percentile for total freezing time per week: 36296.473405\n",
            "35\n",
            "Total freezing time per week: 41651.121758\n",
            "50th percentile for total freezing time per week: 41642.428871\n",
            "95th percentile for total freezing time per week: 42272.133536\n",
            "40\n",
            "Total freezing time per week: 47611.754396\n",
            "50th percentile for total freezing time per week: 47616.954080\n",
            "95th percentile for total freezing time per week: 48331.151403\n"
          ]
        }
      ]
    },
    {
      "cell_type": "markdown",
      "source": [
        "The provided results from a simulation represent the total freezing time required for different numbers of scheduled trucks per week. As the number of trucks increases in increments of 5, starting from 10 to 40, both the average total freezing time per week and the 50th percentile (median) total freezing time increase linearly. This indicates that the total freezing time scales predictably with the number of trucks scheduled. The 95th percentile values, which are higher than the average and median, represent the upper end of the range, suggesting that most weeks will have a total freezing time below this value, but occasionally, the freezing time can be expected to be as high as the 95th percentile value. This information is critical for logistics planning, ensuring that the schedule accommodates the typical freezing time demand, while also preparing for peak times."
      ],
      "metadata": {
        "id": "GOcuK5xBBV_4"
      }
    }
  ]
}