{
  "nbformat": 4,
  "nbformat_minor": 0,
  "metadata": {
    "colab": {
      "provenance": []
    },
    "kernelspec": {
      "name": "python3",
      "display_name": "Python 3"
    },
    "language_info": {
      "name": "python"
    }
  },
  "cells": [
    {
      "cell_type": "markdown",
      "source": [
        "#Blast Freezer Truck Schedule Optimization for Supply Chain Efficiency\n",
        "##Initial Report"
      ],
      "metadata": {
        "id": "bzhE_7Xjx9mG"
      }
    },
    {
      "cell_type": "markdown",
      "source": [
        "###Environment Setup and Module Importing\n",
        "\n",
        "imports necessary Python libraries (pandas, seaborn, numpy) and mounts Google Drive for accessing files, indicating the project's reliance on external datasets and Python's data analysis and visualization capabilities."
      ],
      "metadata": {
        "id": "PTY6qCJKiHD5"
      }
    },
    {
      "cell_type": "code",
      "execution_count": 1,
      "metadata": {
        "id": "pKBu14qZXdKA"
      },
      "outputs": [],
      "source": [
        "import pandas as pd\n",
        "import seaborn as sns\n",
        "import numpy as np"
      ]
    },
    {
      "cell_type": "code",
      "source": [
        "from google.colab import drive\n",
        "drive.mount(\"/content/drive\")"
      ],
      "metadata": {
        "colab": {
          "base_uri": "https://localhost:8080/"
        },
        "id": "8utv3B4a7_yB",
        "outputId": "b04703c5-3d9b-44bc-b874-398c1a714f84"
      },
      "execution_count": 2,
      "outputs": [
        {
          "output_type": "stream",
          "name": "stdout",
          "text": [
            "Mounted at /content/drive\n"
          ]
        }
      ]
    },
    {
      "cell_type": "markdown",
      "source": [
        "###Custom Module Importing\n",
        "It involves importing a custom module named brooks from a specified directory in Google Drive, suggesting the use of custom Python functions or classes defined outside the notebook for specialized tasks."
      ],
      "metadata": {
        "id": "UvMhy4ek9MMd"
      }
    },
    {
      "cell_type": "code",
      "source": [
        "import sys\n",
        "sys.path.insert(0, \"/content/drive/MyDrive/645\")\n",
        "\n",
        "from brooks import *"
      ],
      "metadata": {
        "id": "KHwr1B-r8A6L"
      },
      "execution_count": 3,
      "outputs": []
    },
    {
      "cell_type": "markdown",
      "source": [
        "###Random Number Generation and Simulation\n",
        "This part initializes a random number generator with a seed and demonstrates generating triangularly distributed random numbers, a step likely preparatory for simulating processes or behaviors in the project.\n",
        "\n",
        "Setting the random variables and assuming the mean, mode and max as per triangular distribution.\n",
        "Assumed: min=24hrs, mode=48hrs, max=72hrs"
      ],
      "metadata": {
        "id": "RpPyETCsknLi"
      }
    },
    {
      "cell_type": "code",
      "source": [
        "rg = np.random.default_rng(12345)\n",
        "for i in range(10):\n",
        "  print(rg.triangular(24,48,72))"
      ],
      "metadata": {
        "colab": {
          "base_uri": "https://localhost:8080/"
        },
        "id": "IZMOAdAnhZEp",
        "outputId": "6988fb44-69a1-4117-b1c4-2677bc281dde"
      },
      "execution_count": 4,
      "outputs": [
        {
          "output_type": "stream",
          "name": "stdout",
          "text": [
            "40.183049708944836\n",
            "43.10250264613606\n",
            "56.72142044715248\n",
            "52.687966981830286\n",
            "45.226356312221824\n",
            "43.58064464980852\n",
            "50.4884143804424\n",
            "38.6668940752798\n",
            "52.583897474128435\n",
            "63.8120149481675\n"
          ]
        }
      ]
    },
    {
      "cell_type": "markdown",
      "source": [
        "###Simulation of Freezing Times\n",
        "The notebook simulates the total freezing time required for pallets in trucks over a range of scheduled trucks. It uses Monte Carlo simulation techniques to estimate the freezing time, crucial for operational planning.\n"
      ],
      "metadata": {
        "id": "_Zfg_MxwlJXY"
      }
    },
    {
      "cell_type": "code",
      "source": [
        "total_freezing_time_per_week = 34560\n",
        "trucks_scheduled = range(10, 61, 2)  #randomly scheduling trucks\n",
        "n = 1000 #Number of simulations\n",
        "\n",
        "for trucks in trucks_scheduled:\n",
        "    rg = np.random.default_rng(12345) #Taking a seed value of 12345\n",
        "    total_freezing_time_list= [] #Creating a list to append the final total times\n",
        "    for i in range(n):\n",
        "        total_freezing_time = 0\n",
        "        pallets_in_truck = 24*trucks\n",
        "        for pallets in range(pallets_in_truck):\n",
        "            freezing_time = rg.triangular(48, 55, 72) #Assuming the mean and mode values and taking the max as 72\n",
        "            total_freezing_time += freezing_time\n",
        "        total_freezing_time_list.append(total_freezing_time)\n",
        "\n",
        "    lower_bound = np.percentile(total_freezing_time_list, 2.5)\n",
        "    upper_bound = np.percentile(total_freezing_time_list, 97.5)\n",
        "\n"
      ],
      "metadata": {
        "id": "WXgeMh_43Jyx"
      },
      "execution_count": 5,
      "outputs": []
    },
    {
      "cell_type": "markdown",
      "source": [
        "###Statistical Analysis\n",
        "After simulations, it calculates statistical metrics (like the 2.5th and 97.5th percentiles) to understand the distribution of total freezing times. This helps in risk assessment and decision-making regarding the operational capacity."
      ],
      "metadata": {
        "id": "d1KdRIcU976G"
      }
    },
    {
      "cell_type": "code",
      "source": [
        "print(\"Total freezing time per week: %f\" % (sum(total_freezing_time_list)/n))\n",
        "no_trucks = ((sum(total_freezing_time_list)/n)/288)/24\n",
        "print(\"Number of trucks required are:\", no_trucks)\n",
        "\n",
        "fifty = np.percentile(total_freezing_time_list, q=50)\n",
        "print (\"50th percentile for total freezing time per week: %f\" % (fifty))\n",
        "print(f\"Total freezing time per week(50%): Lower Bound: {lower_bound}, Upper Bound: {upper_bound}\")\n",
        "\n",
        "if(fifty>total_freezing_time_per_week):\n",
        "  print(\"There is at most a 50% chance the processing time does not exceed 34,560 hours\")\n",
        "if lower_bound <= total_freezing_time_per_week and upper_bound >= total_freezing_time_per_week:\n",
        "  print(\"There is at most a 5% chance the processing time does not exceed 34,560 hours\")"
      ],
      "metadata": {
        "colab": {
          "base_uri": "https://localhost:8080/"
        },
        "id": "SkPQWNQk97C_",
        "outputId": "4b196dda-f3d4-4f21-8874-09748036228d"
      },
      "execution_count": 6,
      "outputs": [
        {
          "output_type": "stream",
          "name": "stdout",
          "text": [
            "Total freezing time per week: 83997.884431\n",
            "Number of trucks required are: 12.152471705820084\n",
            "50th percentile for total freezing time per week: 83996.599826\n",
            "Total freezing time per week(50%): Lower Bound: 83606.6733700654, Upper Bound: 84373.76673523802\n",
            "There is at most a 50% chance the processing time does not exceed 34,560 hours\n"
          ]
        }
      ]
    },
    {
      "cell_type": "markdown",
      "source": [
        "###Results Interpretation\n",
        "The results from the simulation indicate that the total average freezing time per week is approximately 83,997.88 hours, which suggests that about 12 trucks would be required to handle the workload, based on an average freezing time of 83996.60 hours (50th percentile). The range between the lower bound (83,606.67 hours) and the upper bound (84,373.77 hours) at the 50th percentile provides a confidence interval for the simulation outcomes. The statement about a 50% chance that processing time does not exceed 34,560 hours seems incorrect given the context, likely indicating a misunderstanding, as the actual processed times far exceed this figure.\n",
        "\n",
        "\n",
        "\n",
        "\n",
        "\n",
        "\n"
      ],
      "metadata": {
        "id": "pThG9nht-D0V"
      }
    }
  ]
}